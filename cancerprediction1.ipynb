{
 "cells": [
  {
   "cell_type": "code",
   "execution_count": null,
   "metadata": {},
   "outputs": [],
   "source": [
    "import pandas as pd\n",
    "import numpy as np\n",
    "import csv \n",
    "from sklearn.model_selection import train_test_split\n",
    "import seaborn as sns\n",
    "import matplotlib.pyplot as plt\n",
    "from sklearn.preprocessing import LabelEncoder, StandardScaler, MinMaxScaler\n",
    "#import warnings\n",
    "#warnings.filterwarnings(\"ignore\")\n",
    "#from sklearn.naive_bayes import MultinomialNB, BernoulliNB\n",
    "#from sklearn.neighbors import KNeighborsClassifier\n",
    "#from sklearn.tree import DecisionTreeClassifier\n",
    "#from sklearn.model_selection import RandomizedSearchCV\n",
    "from sklearn.linear_model import LogisticRegression\n",
    "#from sklearn.svm import SVC\n",
    "from sklearn.metrics import accuracy_score\n",
    "#from sklearn.ensemble import RandomForestClassifier\n",
    "import streamlit as st\n",
    "st.title('Lung Cancer Detection')"
   ]
  },
  {
   "cell_type": "code",
   "execution_count": null,
   "metadata": {},
   "outputs": [],
   "source": [
    "patientdf= pd.read_csv('C:\\\\Users\\\\Tristan Hancock\\\\Documents\\\\MPSTME_BTech\\\\Semesters\\\\Sem9\\\\Cancer Progonsis\\\\dataset\\\\cancer patient data sets.csv')\n",
    "patientdf.describe()"
   ]
  },
  {
   "cell_type": "code",
   "execution_count": null,
   "metadata": {},
   "outputs": [],
   "source": [
    "patientdf = patientdf.iloc[:,2:] #removing index and parient id AS THEY ARE NOT USEFULL FOR OUR MODEL"
   ]
  },
  {
   "cell_type": "markdown",
   "metadata": {},
   "source": []
  },
  {
   "cell_type": "code",
   "execution_count": null,
   "metadata": {},
   "outputs": [],
   "source": [
    "def unique(i):\n",
    "    print(\"{}\".format(i))\n",
    "    print(patientdf[i].nunique())\n",
    "    print(\"-\"*50)\n",
    "    \n",
    "for i in patientdf.select_dtypes(exclude=\"object\"):\n",
    "    unique(i)"
   ]
  },
  {
   "cell_type": "code",
   "execution_count": null,
   "metadata": {},
   "outputs": [],
   "source": [
    "patientdf.info()"
   ]
  },
  {
   "cell_type": "code",
   "execution_count": null,
   "metadata": {},
   "outputs": [],
   "source": [
    "plt.subplots(figsize = (15,8))\n",
    "sns.heatmap(patientdf.select_dtypes(include=\"number\").corr(),linewidth = 1, annot = True)\n",
    "#using the heat map we can see which features have the most effect on cancer allowing us to  use variables that are the most effect for lung cancer "
   ]
  },
  {
   "cell_type": "code",
   "execution_count": null,
   "metadata": {},
   "outputs": [],
   "source": [
    "columns_to_remove = [\n",
    "    'Fatigue', 'Weight Loss', 'Shortness of Breath', 'Wheezing',\n",
    "    'Swallowing Difficulty', 'Clubbing of Finger Nails',\n",
    "    'Frequent Cold', 'Dry Cough', 'Snoring'\n",
    "]\n",
    "\n",
    "# Remove the specified columns\n",
    "patientdf = patientdf.drop(columns=columns_to_remove, axis=1)\n",
    "\n",
    "# The resulting DataFrame will no longer contain the specified columns.\n",
    "print(patientdf)"
   ]
  },
  {
   "cell_type": "code",
   "execution_count": null,
   "metadata": {},
   "outputs": [],
   "source": [
    "print(patientdf.columns)"
   ]
  },
  {
   "cell_type": "code",
   "execution_count": null,
   "metadata": {},
   "outputs": [],
   "source": [
    "#understanding how our data is divided between intensity levels with re \n",
    "fig, axs = plt.subplots(1, 2, figsize=(12, 5))\n",
    "\n",
    "axs[0].pie(patientdf['Level'].value_counts(), labels=patientdf['Level'].value_counts().index, autopct='%.0f%%')\n",
    "axs[0].set_title('Distribution by Level')\n",
    "\n",
    "axs[1].pie(patientdf['Gender'].value_counts(), labels=patientdf['Gender'].value_counts().index, autopct='%.0f%%')\n",
    "axs[1].set_title('Distribution by Gender')\n",
    "\n",
    "plt.tight_layout()\n",
    "plt.show()"
   ]
  },
  {
   "cell_type": "code",
   "execution_count": null,
   "metadata": {},
   "outputs": [],
   "source": [
    "#here we are checkinf for outliers for each attribute ,\n",
    "plt.figure(figsize = (16,16))\n",
    "\n",
    "for i,j in enumerate(patientdf.select_dtypes(include = \"number\").columns):\n",
    "\n",
    "    plt.subplot(5,5,i+1)\n",
    "\n",
    "    sns.boxplot(patientdf[j])\n",
    "    plt.xlabel(\"{}\".format(j))\n",
    "\n",
    "    plt.tight_layout()\n",
    "\n",
    "plt.subplots_adjust()\n",
    "plt.show()"
   ]
  },
  {
   "cell_type": "code",
   "execution_count": null,
   "metadata": {},
   "outputs": [],
   "source": [
    "le = LabelEncoder()\n",
    "patientdf[\"Level\"] = le.fit_transform(patientdf[\"Level\"]) #since internsity levels are strings we need to convert to numeric data"
   ]
  },
  {
   "cell_type": "code",
   "execution_count": null,
   "metadata": {},
   "outputs": [],
   "source": [
    "patientdf.head()"
   ]
  },
  {
   "cell_type": "code",
   "execution_count": null,
   "metadata": {},
   "outputs": [],
   "source": [
    "model = MinMaxScaler()\n",
    "patientdf.iloc[:,:-1] = model.fit_transform(patientdf.iloc[:,:-1])"
   ]
  },
  {
   "cell_type": "code",
   "execution_count": null,
   "metadata": {},
   "outputs": [],
   "source": [
    "patientdf = patientdf.astype(int)"
   ]
  },
  {
   "cell_type": "code",
   "execution_count": null,
   "metadata": {},
   "outputs": [],
   "source": [
    "col = list(patientdf.columns)\n",
    "predictor = col[:-1] #selecting predictor columns\n",
    "target = col[-1] # selecting target columns\n",
    "\n",
    "display(predictor, target)"
   ]
  },
  {
   "cell_type": "code",
   "execution_count": null,
   "metadata": {},
   "outputs": [],
   "source": [
    "train, test = train_test_split(patientdf, test_size = 0.2, random_state = 0)\n",
    "\n",
    "display(train, test)"
   ]
  },
  {
   "cell_type": "code",
   "execution_count": null,
   "metadata": {},
   "outputs": [],
   "source": [
    "#svm_rbf = SVC(kernel = 'rbf', random_state = 0) #Applying SVM with rbf kernel as hyperparameter\n",
    "#svm_linear = SVC(kernel = 'linear', random_state = 0) #Applying SVM with linear kernel as hyperparameter\n",
    "#svm_poly = SVC(kernel = \"poly\", random_state = 0) #Applying SVM with poly kernel as hyperparameter\n",
    "#RF = RandomForestClassifier(random_state = 0) #Applying RandomForestClassifier\n",
    "#knn = KNeighborsClassifier(n_jobs = -1, n_neighbors = 15) #Importing KNN\n",
    "#DT = DecisionTreeClassifier(random_state = 0) # Importing DecisionTreeClassifier\n",
    "#naive_ber = BernoulliNB() #Importing Bernoulli Naive Bayes\n",
    "\n",
    "#model_list = [svm_rbf, svm_linear, svm_poly, RF, knn, DT, naive_ber] \n",
    "#model_list"
   ]
  },
  {
   "cell_type": "code",
   "execution_count": null,
   "metadata": {},
   "outputs": [],
   "source": [
    "#for model in model_list:\n",
    "\n",
    " #   print(\"{}\".format(model))\n",
    "  #  model.fit(train[predictor], train[target])\n",
    "\n",
    "   # print(\"For Test: \")\n",
    "    #test_pred = model.predict(test[predictor])\n",
    "    #display(pd.crosstab(test[target], test_pred, rownames = [\"Actual\"], colnames = [\"Prediction\"]))\n",
    "    #print(\"Accuracy: \", accuracy_score(test[target], test_pred))\n",
    "\n",
    "   # print(\".\"*30)\n",
    "\n",
    "    #print(\"For Train: \")\n",
    "    #train_pred = model.predict(train[predictor])\n",
    "    #display(pd.crosstab(train[target], train_pred, rownames = [\"Actual\"], colnames = [\"Prediction\"]))\n",
    "    #print(\"Accuracy: \", accuracy_score(train[target], train_pred))\n",
    "\n",
    "    #print(\"*\"*30)\n",
    "    #print(\"*\"*30)"
   ]
  },
  {
   "cell_type": "code",
   "execution_count": null,
   "metadata": {},
   "outputs": [],
   "source": [
    "#param = {\"criterion\":[\"gini\", \"entropy\", \"log_loss\"], \n",
    " ##      \"max_depth\":list(range(1,50)), \n",
    "        #\"min_samples_split\":list(range(2,50)), \n",
    "        #\"min_samples_leaf\":list(range(1,50)),\n",
    "        #\"max_features\":[\"auto\", \"sqrt\", \"log2\"], \n",
    "        #\"max_leaf_nodes\":list(range(1,50))}"
   ]
  },
  {
   "cell_type": "code",
   "execution_count": null,
   "metadata": {},
   "outputs": [],
   "source": [
    "#model_RS = RandomizedSearchCV(estimator = DecisionTreeClassifier(random_state = 0),\n",
    " #                               param_distributions = param,\n",
    "  #                              n_jobs = -1,\n",
    "   #                             random_state = 0,\n",
    "    #                            cv = 10,\n",
    "     #                           scoring = \"accuracy\",\n",
    "      #                          ).fit(train[predictor], train[target])\n",
    "#model_RS"
   ]
  },
  {
   "cell_type": "code",
   "execution_count": null,
   "metadata": {},
   "outputs": [],
   "source": [
    "#model_RS.best_score_"
   ]
  },
  {
   "cell_type": "code",
   "execution_count": null,
   "metadata": {},
   "outputs": [],
   "source": [
    "#model = model_RS.best_estimator_\n",
    "#model"
   ]
  },
  {
   "cell_type": "code",
   "execution_count": null,
   "metadata": {},
   "outputs": [],
   "source": [
    "#print(\"For Test: \")\n",
    "#test_pred = model.predict(test[predictor])\n",
    "#display(pd.crosstab(test[target], test_pred, rownames = [\"Actual\"], colnames = [\"Prediction\"]))\n",
    "#print(\"Accuracy: \", accuracy_score(test[target], test_pred))\n",
    "\n",
    "#print(\"..............................................................\")\n",
    "\n",
    "#print(\"For Train: \")\n",
    "#train_pred = model.predict(train[predictor])\n",
    "#display(pd.crosstab(train[target], train_pred, rownames = [\"Actual\"], colnames = [\"Prediction\"]))\n",
    "#print(\"Accuracy: \", accuracy_score(train[target], train_pred))"
   ]
  },
  {
   "cell_type": "code",
   "execution_count": null,
   "metadata": {},
   "outputs": [],
   "source": [
    "# Applying Logistic Regression on train data\n",
    "model = LogisticRegression(random_state = 0, n_jobs = -1).fit(train[predictor], train[target])\n",
    "model"
   ]
  },
  {
   "cell_type": "code",
   "execution_count": null,
   "metadata": {},
   "outputs": [],
   "source": [
    "print(\"For Test: \")\n",
    "test_pred = model.predict(test[predictor])\n",
    "display(pd.crosstab(test[target], test_pred, rownames = [\"Actual\"], colnames = [\"Prediction\"]))\n",
    "print(\"Accuracy: \", accuracy_score(test[target], test_pred))\n",
    "\n",
    "print(\"..............................................................\")\n",
    "\n",
    "print(\"For Train: \")\n",
    "train_pred = model.predict(train[predictor])\n",
    "display(pd.crosstab(train[target], train_pred, rownames = [\"Actual\"], colnames = [\"Prediction\"]))\n",
    "print(\"Accuracy: \", accuracy_score(train[target], train_pred))"
   ]
  },
  {
   "cell_type": "code",
   "execution_count": null,
   "metadata": {},
   "outputs": [],
   "source": [
    "import tensorflow as tf\n",
    "from tensorflow import keras"
   ]
  },
  {
   "cell_type": "code",
   "execution_count": null,
   "metadata": {},
   "outputs": [],
   "source": [
    "model = keras.Sequential([\n",
    "    keras.layers.Dense(64, activation = 'relu', input_shape = (train[predictor].shape[1],)),\n",
    "    keras.layers.Dense(32, activation = 'relu'),\n",
    "    keras.layers.Dense(3, activation = 'softmax')\n",
    "])\n",
    "\n",
    "model.compile(optimizer = 'adam', loss = 'sparse_categorical_crossentropy', metrics = ['accuracy'])"
   ]
  },
  {
   "cell_type": "code",
   "execution_count": null,
   "metadata": {},
   "outputs": [],
   "source": [
    "model.fit(train[predictor], train[target], epochs = 100, batch_size = 50, validation_split = 0.2)"
   ]
  },
  {
   "cell_type": "code",
   "execution_count": null,
   "metadata": {},
   "outputs": [],
   "source": [
    "y_pred = model.predict(test[predictor])\n",
    "y_pred_labels = np.argmax(y_pred, axis = 1)\n",
    "\n",
    "accuracy = accuracy_score(test[target], y_pred_labels)\n",
    "print(f'Test Accuracy: {accuracy * 100:.2f}%')"
   ]
  }
 ],
 "metadata": {
  "kernelspec": {
   "display_name": "base",
   "language": "python",
   "name": "python3"
  },
  "language_info": {
   "codemirror_mode": {
    "name": "ipython",
    "version": 3
   },
   "file_extension": ".py",
   "mimetype": "text/x-python",
   "name": "python",
   "nbconvert_exporter": "python",
   "pygments_lexer": "ipython3",
   "version": "3.9.18"
  }
 },
 "nbformat": 4,
 "nbformat_minor": 2
}
